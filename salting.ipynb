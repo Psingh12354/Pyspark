{
 "cells": [
  {
   "cell_type": "code",
   "execution_count": 0,
   "metadata": {
    "application/vnd.databricks.v1+cell": {
     "cellMetadata": {
      "byteLimit": 2048000,
      "rowLimit": 10000
     },
     "inputWidgets": {},
     "nuid": "f862d1a0-443c-486a-95e3-3261b1f174f1",
     "showTitle": false,
     "tableResultSettingsMap": {},
     "title": ""
    }
   },
   "outputs": [
    {
     "output_type": "stream",
     "name": "stdout",
     "output_type": "stream",
     "text": [
      "+---+-----+---+----+\n|key|value|key|desc|\n+---+-----+---+----+\n|  A|    2|  A|   x|\n|  A|    3|  A|   x|\n|  A|    1|  A|   x|\n|  B|    4|  B|   y|\n|  C|    5|  C|   z|\n+---+-----+---+----+\n\n"
     ]
    }
   ],
   "source": [
    "from pyspark.sql import SparkSession\n",
    "from pyspark.sql.functions import col, lit, concat_ws, rand, floor\n",
    "spark = SparkSession.builder.getOrCreate()\n",
    "# Example datasets\n",
    "df_large = spark.createDataFrame([\n",
    "    (\"A\", 1), (\"A\", 2), (\"A\", 3), (\"B\", 4), (\"C\", 5)\n",
    "], [\"key\", \"value\"])\n",
    "df_small = spark.createDataFrame([\n",
    "    (\"A\", \"x\"), (\"B\", \"y\"), (\"C\", \"z\")\n",
    "], [\"key\", \"desc\"])\n",
    "# Define salt range\n",
    "salt_range = 5\n",
    "# Salting large dataframe (add salt column)\n",
    "df_large = (\n",
    "    df_large\n",
    "    .withColumn(\"salt\", floor(rand() * salt_range).cast(\"int\"))\n",
    "    .withColumn(\"salted_key\", concat_ws(\"_\", col(\"key\"), col(\"salt\")))\n",
    ")\n",
    "# Prepare small dataframe by replicating it salt_range times\n",
    "df_small_salted = (\n",
    "    df_small\n",
    "    .crossJoin(spark.range(salt_range).toDF(\"salt\"))\n",
    "    .withColumn(\"salted_key\", concat_ws(\"_\", col(\"key\"), col(\"salt\")))\n",
    ")\n",
    "# Join on salted key\n",
    "result = (\n",
    "    df_large\n",
    "    .join(df_small_salted, \"salted_key\", \"inner\")\n",
    "    .drop(\"salt\", \"salted_key\")\n",
    ")\n",
    "result.show()"
   ]
  },
  {
   "cell_type": "code",
   "execution_count": 0,
   "metadata": {
    "application/vnd.databricks.v1+cell": {
     "cellMetadata": {
      "byteLimit": 2048000,
      "rowLimit": 10000
     },
     "inputWidgets": {},
     "nuid": "48dc12e1-b667-49ce-b1da-86a8affd26c7",
     "showTitle": false,
     "tableResultSettingsMap": {},
     "title": ""
    }
   },
   "outputs": [
    {
     "output_type": "stream",
     "name": "stdout",
     "output_type": "stream",
     "text": [
      "+---+-----+----+----------+\n|key|value|salt|salted_key|\n+---+-----+----+----------+\n|  A|    1|   0|       A_0|\n|  A|    2|   1|       A_1|\n|  A|    3|   2|       A_2|\n|  B|    4|   0|       B_0|\n|  C|    5|   0|       C_0|\n+---+-----+----+----------+\n\n"
     ]
    }
   ],
   "source": [
    "df_large = (\n",
    "    df_large\n",
    "    .withColumn(\"salt\", floor(rand() * salt_range).cast(\"int\"))\n",
    "    .withColumn(\"salted_key\", concat_ws(\"_\", col(\"key\"), col(\"salt\")))\n",
    ").show()"
   ]
  },
  {
   "cell_type": "code",
   "execution_count": 0,
   "metadata": {
    "application/vnd.databricks.v1+cell": {
     "cellMetadata": {
      "byteLimit": 2048000,
      "rowLimit": 10000
     },
     "inputWidgets": {},
     "nuid": "c3c388f5-74f1-4a1c-8590-3d13641f40c2",
     "showTitle": false,
     "tableResultSettingsMap": {},
     "title": ""
    }
   },
   "outputs": [
    {
     "output_type": "display_data",
     "data": {
      "text/plain": [
       "\u001B[0;31m---------------------------------------------------------------------------\u001B[0m\n",
       "\u001B[0;31mTypeError\u001B[0m                                 Traceback (most recent call last)\n",
       "File \u001B[0;32m<command-7204213633328851>, line 1\u001B[0m\n",
       "\u001B[0;32m----> 1\u001B[0m \u001B[38;5;28mint\u001B[39m(floor(rand()\u001B[38;5;241m*\u001B[39m\u001B[38;5;241m5\u001B[39m))\n",
       "\n",
       "\u001B[0;31mTypeError\u001B[0m: int() argument must be a string, a bytes-like object or a real number, not 'Column'"
      ]
     },
     "metadata": {
      "application/vnd.databricks.v1+output": {
       "addedWidgets": {},
       "arguments": {},
       "datasetInfos": [],
       "jupyterProps": {
        "ename": "TypeError",
        "evalue": "int() argument must be a string, a bytes-like object or a real number, not 'Column'"
       },
       "metadata": {
        "errorSummary": "<span class='ansi-red-fg'>TypeError</span>: int() argument must be a string, a bytes-like object or a real number, not 'Column'"
       },
       "removedWidgets": [],
       "sqlProps": null,
       "stackFrames": [
        "\u001B[0;31m---------------------------------------------------------------------------\u001B[0m",
        "\u001B[0;31mTypeError\u001B[0m                                 Traceback (most recent call last)",
        "File \u001B[0;32m<command-7204213633328851>, line 1\u001B[0m\n\u001B[0;32m----> 1\u001B[0m \u001B[38;5;28mint\u001B[39m(floor(rand()\u001B[38;5;241m*\u001B[39m\u001B[38;5;241m5\u001B[39m))\n",
        "\u001B[0;31mTypeError\u001B[0m: int() argument must be a string, a bytes-like object or a real number, not 'Column'"
       ],
       "type": "baseError"
      }
     },
     "output_type": "display_data"
    }
   ],
   "source": [
    "int(floor(rand()*5))"
   ]
  }
 ],
 "metadata": {
  "application/vnd.databricks.v1+notebook": {
   "computePreferences": null,
   "dashboards": [],
   "environmentMetadata": {
    "base_environment": "",
    "environment_version": "3"
   },
   "inputWidgetPreferences": null,
   "language": "python",
   "notebookMetadata": {
    "pythonIndentUnit": 4
   },
   "notebookName": "Untitled Notebook 2025-10-07 18:31:54",
   "widgets": {}
  },
  "language_info": {
   "name": "python"
  }
 },
 "nbformat": 4,
 "nbformat_minor": 0
}