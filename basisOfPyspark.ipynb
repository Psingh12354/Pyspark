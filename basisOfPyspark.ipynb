{
 "cells": [
  {
   "cell_type": "markdown",
   "metadata": {
    "application/vnd.databricks.v1+cell": {
     "cellMetadata": {},
     "inputWidgets": {},
     "nuid": "5e057d64-7c11-44a3-b4ef-83d70e7df456",
     "showTitle": false,
     "tableResultSettingsMap": {},
     "title": ""
    }
   },
   "source": [
    "| **Operation**              | **Definition**                                             | **Example**                                 | **Sample Output**                           | **When to Use**                                     |\n",
    "| -------------------------- | ---------------------------------------------------------- | ------------------------------------------- | ------------------------------------------- | --------------------------------------------------- |\n",
    "| **`show(n)`**              | Displays first `n` rows in table format                    | `df.show(2)`                                | First 2 rows in tabular format              | Quick inspection of data                            |\n",
    "| **`take(n)`**              | Returns first `n` rows as a **Python list** of Row objects | `df.take(2)`                                | `[Row(name='John'..), Row(name='Alice'..)]` | When you want to work with sample rows in Python    |\n",
    "| **`first()`**              | Returns the **first row** of the DataFrame                 | `df.first()`                                | `Row(name='John', age=30, city='New York')` | Check first record quickly                          |\n",
    "| **`head(n)`**              | Returns first `n` rows, like `take()`                      | `df.head(2)`                                | Same as `take(2)`                           | Get small subset of data                            |\n",
    "| **`count()`**              | Returns total row count                                    | `df.count()`                                | `5`                                         | Validate row count, dataset size                    |\n",
    "| **`collect()`**            | Returns **all rows** to driver as a list                   | `df.collect()`                              | `[Row(...), Row(...)]`                      | Only for **small datasets** (⚠️ avoid for big data) |\n",
    "| **`distinct()`**           | Removes duplicate rows                                     | `df.distinct().show()`                      | Unique rows only                            | Deduplication in ETL pipelines                      |\n",
    "| **`filter()` / `where()`** | Filters rows matching a condition                          | `df.filter(df.age > 25).show()`             | Rows with `age > 25`                        | Data cleansing, conditional selection               |\n",
    "| **`select()`**             | Selects specific columns                                   | `df.select(\"name\",\"city\").show()`           | Table with only selected columns            | Use when you need subset of columns                 |\n",
    "| **`orderBy()` / `sort()`** | Sorts rows by column(s)                                    | `df.orderBy(df.age.desc()).show()`          | Sorted dataset by age                       | Ranking, reporting, ordered outputs                 |\n",
    "| **`groupBy()`**            | Groups rows for aggregation                                | `df.groupBy(\"city\").count().show()`         | City-wise counts                            | Summarization, aggregations (SUM, AVG, etc.)        |\n",
    "| **`withColumn()`**         | Adds or updates a column                                   | `df.withColumn(\"age_plus_5\", col(\"age\")+5)` | Adds `age_plus_5` column                    | Feature engineering, new calculations               |\n",
    "| **`drop()`**               | Removes one/more columns                                   | `df.drop(\"age\").show()`                     | Table without `age`                         | Remove unnecessary columns                          |\n",
    "| **`na.fill()`**            | Replace NULL values                                        | `df.na.fill({\"city\":\"Unknown\"})`            | Null replaced with \"Unknown\"                | Data cleaning, missing values                       |\n",
    "| **`na.drop()`**            | Drops rows with NULLs                                      | `df.na.drop()`                              | Only complete rows kept                     | Ensure only valid records kept                      |\n",
    "| **`limit(n)`**             | Returns first `n` rows without collecting                  | `df.limit(3).show()`                        | First 3 rows                                | Sample small portion of data                        |\n",
    "| **`cache()`**              | Stores DataFrame in memory                                 | `df.cache()`                                | N/A                                         | Reuse dataset multiple times in same job            |\n",
    "| **`persist()`**            | Stores DataFrame with configurable storage level           | `df.persist(StorageLevel.DISK_ONLY)`        | N/A                                         | For larger datasets that don’t fit in memory        |\n",
    "| **`dropDuplicates()`**     | Removes duplicates based on given columns                  | `df.dropDuplicates([\"name\",\"city\"])`        | Deduplicated rows                           | Use when only specific columns define uniqueness    |\n",
    "| **`describe()`**           | Returns summary statistics                                 | `df.describe().show()`                      | Count, mean, stddev, min, max               | Quick statistical overview                          |\n",
    "| **`printSchema()`**        | Prints schema of DataFrame                                 | `df.printSchema()`                          | Tree of column names/types                  | Schema validation before processing                 |\n"
   ]
  },
  {
   "cell_type": "code",
   "execution_count": 0,
   "metadata": {
    "application/vnd.databricks.v1+cell": {
     "cellMetadata": {
      "byteLimit": 2048000,
      "rowLimit": 10000
     },
     "inputWidgets": {},
     "nuid": "aca6d8d4-583d-4e86-a320-7eae1e3ff432",
     "showTitle": false,
     "tableResultSettingsMap": {},
     "title": ""
    }
   },
   "outputs": [],
   "source": [
    "from pyspark.sql import SparkSession"
   ]
  },
  {
   "cell_type": "code",
   "execution_count": 0,
   "metadata": {
    "application/vnd.databricks.v1+cell": {
     "cellMetadata": {
      "byteLimit": 2048000,
      "rowLimit": 10000
     },
     "inputWidgets": {},
     "nuid": "cc2f104e-a9e2-4f71-8120-f46fafacc308",
     "showTitle": false,
     "tableResultSettingsMap": {},
     "title": ""
    }
   },
   "outputs": [
    {
     "output_type": "stream",
     "name": "stdout",
     "output_type": "stream",
     "text": [
      "+-----+---+--------+\n| name|age|    city|\n+-----+---+--------+\n| John| 30|New York|\n|Alice| 25|  London|\n|  Bob| 30|New York|\n| Mary| 22|   Paris|\n| John| 30|New York|\n+-----+---+--------+\n\n"
     ]
    }
   ],
   "source": [
    "from pyspark.sql import SparkSession\n",
    "from pyspark.sql import Row\n",
    "\n",
    "spark = SparkSession.builder.appName(\"Basics\").getOrCreate()\n",
    "\n",
    "data = [\n",
    "    Row(name=\"John\", age=30, city=\"New York\"),\n",
    "    Row(name=\"Alice\", age=25, city=\"London\"),\n",
    "    Row(name=\"Bob\", age=30, city=\"New York\"),\n",
    "    Row(name=\"Mary\", age=22, city=\"Paris\"),\n",
    "    Row(name=\"John\", age=30, city=\"New York\")   # duplicate row\n",
    "]\n",
    "\n",
    "df = spark.createDataFrame(data)\n",
    "df.show()\n"
   ]
  },
  {
   "cell_type": "code",
   "execution_count": 0,
   "metadata": {
    "application/vnd.databricks.v1+cell": {
     "cellMetadata": {
      "byteLimit": 2048000,
      "rowLimit": 10000
     },
     "inputWidgets": {},
     "nuid": "512ab557-b9f4-4a8c-bcd8-c7307e53951a",
     "showTitle": false,
     "tableResultSettingsMap": {},
     "title": ""
    }
   },
   "outputs": [
    {
     "output_type": "stream",
     "name": "stdout",
     "output_type": "stream",
     "text": [
      "+-----+---+--------+\n| name|age|    city|\n+-----+---+--------+\n| John| 30|New York|\n|Alice| 25|  London|\n+-----+---+--------+\nonly showing top 2 rows\n"
     ]
    }
   ],
   "source": [
    "# displays the first 20 rows of the DataFrame\n",
    "df.show(2)"
   ]
  },
  {
   "cell_type": "code",
   "execution_count": 0,
   "metadata": {
    "application/vnd.databricks.v1+cell": {
     "cellMetadata": {
      "byteLimit": 2048000,
      "rowLimit": 10000
     },
     "inputWidgets": {},
     "nuid": "298dca78-ccfc-478d-b974-954dbaaf7f0b",
     "showTitle": false,
     "tableResultSettingsMap": {},
     "title": ""
    }
   },
   "outputs": [
    {
     "output_type": "execute_result",
     "data": {
      "text/plain": [
       "[Row(name='John', age=30, city='New York'),\n",
       " Row(name='Alice', age=25, city='London')]"
      ]
     },
     "execution_count": 17,
     "metadata": {},
     "output_type": "execute_result"
    }
   ],
   "source": [
    "#Definition: Returns the first row of the dataset.\n",
    "df.take(2)"
   ]
  },
  {
   "cell_type": "code",
   "execution_count": 0,
   "metadata": {
    "application/vnd.databricks.v1+cell": {
     "cellMetadata": {
      "byteLimit": 2048000,
      "rowLimit": 10000
     },
     "inputWidgets": {},
     "nuid": "c81fb461-9ee7-4bd7-8a0a-b1005ddd3448",
     "showTitle": false,
     "tableResultSettingsMap": {},
     "title": ""
    }
   },
   "outputs": [
    {
     "output_type": "display_data",
     "data": {
      "text/plain": [
       "30"
      ]
     },
     "metadata": {},
     "output_type": "display_data"
    }
   ],
   "source": [
    "df1 = df.take(2)\n",
    "first_name = df1[0].name\n",
    "display(first_name)"
   ]
  },
  {
   "cell_type": "code",
   "execution_count": 0,
   "metadata": {
    "application/vnd.databricks.v1+cell": {
     "cellMetadata": {
      "byteLimit": 2048000,
      "rowLimit": 10000
     },
     "inputWidgets": {},
     "nuid": "ddf4b335-058f-4b9e-a23a-97cf1ababda7",
     "showTitle": false,
     "tableResultSettingsMap": {},
     "title": ""
    }
   },
   "outputs": [
    {
     "output_type": "execute_result",
     "data": {
      "text/plain": [
       "Row(name='John', age=30, city='New York')"
      ]
     },
     "execution_count": 23,
     "metadata": {},
     "output_type": "execute_result"
    }
   ],
   "source": [
    "#Definition: Returns the first n rows (similar to take), but slightly different return type.\n",
    "df.first()  # Row(name='John', age=30)\n"
   ]
  },
  {
   "cell_type": "code",
   "execution_count": 0,
   "metadata": {
    "application/vnd.databricks.v1+cell": {
     "cellMetadata": {},
     "inputWidgets": {},
     "nuid": "811d8a4a-f03e-493e-a5c8-df542ad031c2",
     "showTitle": false,
     "tableResultSettingsMap": {},
     "title": ""
    }
   },
   "outputs": [],
   "source": [
    "#Definition: Returns the first n rows (similar to take), but slightly different return type.\n",
    "df.head(2)\n"
   ]
  },
  {
   "cell_type": "code",
   "execution_count": 0,
   "metadata": {
    "application/vnd.databricks.v1+cell": {
     "cellMetadata": {
      "byteLimit": 2048000,
      "rowLimit": 10000
     },
     "inputWidgets": {},
     "nuid": "56d81fca-7716-4e5d-8cfc-117c9c8ff308",
     "showTitle": false,
     "tableResultSettingsMap": {},
     "title": ""
    }
   },
   "outputs": [
    {
     "output_type": "execute_result",
     "data": {
      "text/plain": [
       "5"
      ]
     },
     "execution_count": 26,
     "metadata": {},
     "output_type": "execute_result"
    }
   ],
   "source": [
    "#Definition: Returns the number of rows in the DataFrame/RDD.\n",
    "df.count()"
   ]
  },
  {
   "cell_type": "code",
   "execution_count": 0,
   "metadata": {
    "application/vnd.databricks.v1+cell": {
     "cellMetadata": {
      "byteLimit": 2048000,
      "rowLimit": 10000
     },
     "inputWidgets": {},
     "nuid": "ea6bec3c-bd91-4fcf-bf1b-acb852da50bc",
     "showTitle": false,
     "tableResultSettingsMap": {},
     "title": ""
    }
   },
   "outputs": [
    {
     "output_type": "execute_result",
     "data": {
      "text/plain": [
       "[Row(name='John', age=30, city='New York'),\n",
       " Row(name='Alice', age=25, city='London'),\n",
       " Row(name='Bob', age=30, city='New York'),\n",
       " Row(name='Mary', age=22, city='Paris'),\n",
       " Row(name='John', age=30, city='New York')]"
      ]
     },
     "execution_count": 27,
     "metadata": {},
     "output_type": "execute_result"
    }
   ],
   "source": [
    "#Definition: Returns all rows as a list to the driver (⚠️ not recommended for very large datasets).\n",
    "df.collect()"
   ]
  },
  {
   "cell_type": "code",
   "execution_count": 0,
   "metadata": {
    "application/vnd.databricks.v1+cell": {
     "cellMetadata": {
      "byteLimit": 2048000,
      "rowLimit": 10000
     },
     "inputWidgets": {},
     "nuid": "b52ef97d-16fa-4634-a595-40e45b7c4be5",
     "showTitle": false,
     "tableResultSettingsMap": {},
     "title": ""
    }
   },
   "outputs": [
    {
     "output_type": "stream",
     "name": "stdout",
     "output_type": "stream",
     "text": [
      "+--------+\n|    city|\n+--------+\n|New York|\n|  London|\n|   Paris|\n+--------+\n\n"
     ]
    }
   ],
   "source": [
    "#Definition: Returns a new DataFrame with duplicate rows removed.\n",
    "df.select(\"city\").distinct().show()\n"
   ]
  },
  {
   "cell_type": "code",
   "execution_count": 0,
   "metadata": {
    "application/vnd.databricks.v1+cell": {
     "cellMetadata": {
      "byteLimit": 2048000,
      "rowLimit": 10000
     },
     "inputWidgets": {},
     "nuid": "9ba624a4-4ca4-4139-824a-c5278dc589f2",
     "showTitle": false,
     "tableResultSettingsMap": {},
     "title": ""
    }
   },
   "outputs": [
    {
     "output_type": "stream",
     "name": "stdout",
     "output_type": "stream",
     "text": [
      "+----+---+--------+\n|name|age|    city|\n+----+---+--------+\n|John| 30|New York|\n| Bob| 30|New York|\n|John| 30|New York|\n+----+---+--------+\n\n+----+---+--------+\n|name|age|    city|\n+----+---+--------+\n|John| 30|New York|\n| Bob| 30|New York|\n|John| 30|New York|\n+----+---+--------+\n\n"
     ]
    }
   ],
   "source": [
    "# Definition: Returns rows that satisfy a given condition.\n",
    "df.filter(df.age > 25).show()\n",
    "df.where(\"age > 25\").show()\n"
   ]
  },
  {
   "cell_type": "code",
   "execution_count": 0,
   "metadata": {
    "application/vnd.databricks.v1+cell": {
     "cellMetadata": {
      "byteLimit": 2048000,
      "rowLimit": 10000
     },
     "inputWidgets": {},
     "nuid": "6177f124-8983-4862-adf9-c3ff611fa68e",
     "showTitle": false,
     "tableResultSettingsMap": {},
     "title": ""
    }
   },
   "outputs": [
    {
     "output_type": "stream",
     "name": "stdout",
     "output_type": "stream",
     "text": [
      "+-----+---+\n| name|age|\n+-----+---+\n| John| 30|\n|Alice| 25|\n|  Bob| 30|\n| Mary| 22|\n| John| 30|\n+-----+---+\n\n"
     ]
    }
   ],
   "source": [
    "# Definition: Selects specific columns.\n",
    "df.select(\"name\", \"age\").show()\n"
   ]
  },
  {
   "cell_type": "code",
   "execution_count": 0,
   "metadata": {
    "application/vnd.databricks.v1+cell": {
     "cellMetadata": {
      "byteLimit": 2048000,
      "rowLimit": 10000
     },
     "inputWidgets": {},
     "nuid": "bc0d660d-3723-4545-bba5-ede4c256871a",
     "showTitle": false,
     "tableResultSettingsMap": {},
     "title": ""
    }
   },
   "outputs": [
    {
     "output_type": "stream",
     "name": "stdout",
     "output_type": "stream",
     "text": [
      "+-----+---+--------+\n| name|age|    city|\n+-----+---+--------+\n| John| 30|New York|\n|  Bob| 30|New York|\n| John| 30|New York|\n|Alice| 25|  London|\n| Mary| 22|   Paris|\n+-----+---+--------+\n\n"
     ]
    }
   ],
   "source": [
    "# Definition: Sorts DataFrame rows by one or more columns.\n",
    "df.orderBy(df.age.desc()).show()\n"
   ]
  },
  {
   "cell_type": "code",
   "execution_count": 0,
   "metadata": {
    "application/vnd.databricks.v1+cell": {
     "cellMetadata": {
      "byteLimit": 2048000,
      "rowLimit": 10000
     },
     "inputWidgets": {},
     "nuid": "6cb22b93-e652-4613-8473-713a97a422c7",
     "showTitle": false,
     "tableResultSettingsMap": {},
     "title": ""
    }
   },
   "outputs": [
    {
     "output_type": "stream",
     "name": "stdout",
     "output_type": "stream",
     "text": [
      "+--------+-----+\n|    city|count|\n+--------+-----+\n|New York|    3|\n|  London|    1|\n|   Paris|    1|\n+--------+-----+\n\n"
     ]
    }
   ],
   "source": [
    "# Definition: Groups rows by column(s), often used with aggregates.\n",
    "df.groupBy(\"city\").count().show()\n"
   ]
  },
  {
   "cell_type": "code",
   "execution_count": 0,
   "metadata": {
    "application/vnd.databricks.v1+cell": {
     "cellMetadata": {
      "byteLimit": 2048000,
      "rowLimit": 10000
     },
     "inputWidgets": {},
     "nuid": "8ed241ee-80fe-4a02-b3d9-6ed389694ca1",
     "showTitle": false,
     "tableResultSettingsMap": {},
     "title": ""
    }
   },
   "outputs": [
    {
     "output_type": "stream",
     "name": "stdout",
     "output_type": "stream",
     "text": [
      "+-----+---+--------+----------+\n| name|age|    city|age_plus_5|\n+-----+---+--------+----------+\n| John| 30|New York|        35|\n|Alice| 25|  London|        30|\n|  Bob| 30|New York|        35|\n| Mary| 22|   Paris|        27|\n| John| 30|New York|        35|\n+-----+---+--------+----------+\n\n"
     ]
    }
   ],
   "source": [
    "# Definition: Adds a new column or updates an existing column.\n",
    "from pyspark.sql.functions import col\n",
    "df.withColumn(\"age_plus_5\", col(\"age\") + 5).show()\n"
   ]
  },
  {
   "cell_type": "code",
   "execution_count": 0,
   "metadata": {
    "application/vnd.databricks.v1+cell": {
     "cellMetadata": {
      "byteLimit": 2048000,
      "rowLimit": 10000
     },
     "inputWidgets": {},
     "nuid": "43402fbe-410a-429c-8440-94b639af3dc5",
     "showTitle": false,
     "tableResultSettingsMap": {},
     "title": ""
    }
   },
   "outputs": [
    {
     "output_type": "stream",
     "name": "stdout",
     "output_type": "stream",
     "text": [
      "+-----+--------+\n| name|    city|\n+-----+--------+\n| John|New York|\n|Alice|  London|\n|  Bob|New York|\n| Mary|   Paris|\n| John|New York|\n+-----+--------+\n\n"
     ]
    }
   ],
   "source": [
    "# Definition: Removes one or more columns.\n",
    "df.drop(\"age\").show()"
   ]
  },
  {
   "cell_type": "code",
   "execution_count": 0,
   "metadata": {
    "application/vnd.databricks.v1+cell": {
     "cellMetadata": {
      "byteLimit": 2048000,
      "rowLimit": 10000
     },
     "inputWidgets": {},
     "nuid": "ded86678-1fcd-4703-84ff-dc3d7af495f5",
     "showTitle": false,
     "tableResultSettingsMap": {},
     "title": ""
    }
   },
   "outputs": [
    {
     "output_type": "stream",
     "name": "stdout",
     "output_type": "stream",
     "text": [
      "+-----+---+--------+\n| name|age|    city|\n+-----+---+--------+\n| John| 30|New York|\n|Alice| 25|  London|\n|  Bob| 30|New York|\n| Mary| 22|   Paris|\n| John| 30|New York|\n+-----+---+--------+\n\n+-----+---+--------+\n| name|age|    city|\n+-----+---+--------+\n| John| 30|New York|\n|Alice| 25|  London|\n|  Bob| 30|New York|\n| Mary| 22|   Paris|\n| John| 30|New York|\n+-----+---+--------+\n\n"
     ]
    }
   ],
   "source": [
    "# Definition: Handle null values in a DataFrame.\n",
    "df.na.fill({\"age\": 0}).show()     # Fill null age with 0\n",
    "df.na.drop().show()               # Drop rows with nulls\n"
   ]
  }
 ],
 "metadata": {
  "application/vnd.databricks.v1+notebook": {
   "computePreferences": {
    "hardware": {
     "accelerator": null,
     "gpuPoolId": null,
     "memory": null
    }
   },
   "dashboards": [],
   "environmentMetadata": {
    "base_environment": "",
    "environment_version": "3"
   },
   "inputWidgetPreferences": null,
   "language": "python",
   "notebookMetadata": {
    "pythonIndentUnit": 4
   },
   "notebookName": "Untitled Notebook 2025-10-04 13:41:44",
   "widgets": {}
  },
  "language_info": {
   "name": "python"
  }
 },
 "nbformat": 4,
 "nbformat_minor": 0
}