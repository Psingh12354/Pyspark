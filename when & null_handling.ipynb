{
 "cells": [
  {
   "cell_type": "code",
   "execution_count": 0,
   "metadata": {
    "application/vnd.databricks.v1+cell": {
     "cellMetadata": {
      "byteLimit": 2048000,
      "rowLimit": 10000
     },
     "inputWidgets": {},
     "nuid": "4e71c1cd-ee16-4926-bd61-70b8136b9c84",
     "showTitle": false,
     "tableResultSettingsMap": {},
     "title": ""
    }
   },
   "outputs": [],
   "source": [
    "from pyspark.sql import SparkSession\n",
    "from pyspark.sql.functions import col,when"
   ]
  },
  {
   "cell_type": "markdown",
   "metadata": {
    "application/vnd.databricks.v1+cell": {
     "cellMetadata": {},
     "inputWidgets": {},
     "nuid": "c8d6b18b-1164-4ab0-b251-53c15d908c14",
     "showTitle": false,
     "tableResultSettingsMap": {},
     "title": ""
    }
   },
   "source": [
    "| Scenario                     | Code Example                                                                                                                                | Description                                       | Expected Output                          |                                                 |\n",
    "| ---------------------------- | ------------------------------------------------------------------------------------------------------------------------------------------- | ------------------------------------------------- | ---------------------------------------- | ----------------------------------------------- |\n",
    "| **Basic Condition**          | `python df.withColumn(\"result\", when(col(\"score\") >= 50, \"Pass\").otherwise(\"Fail\")) `                                                       | Assign value based on a simple condition.         | `\"Pass\"` if score ≥ 50, else `\"Fail\"`    |                                                 |\n",
    "| **Multiple Conditions**      | `python df.withColumn(\"grade\", when(col(\"score\") >= 85, \"A\").when(col(\"score\") >= 70, \"B\").otherwise(\"C\")) `                                | Chain multiple `when` conditions.                 | `\"A\"` for ≥85, `\"B\"` for ≥70, else `\"C\"` |                                                 |\n",
    "| **Without `.otherwise()`**   | `python df.withColumn(\"status\", when(col(\"score\") >= 50, \"Pass\")) `                                                                         | No `.otherwise()` — unmatched rows return `null`. | `\"Pass\"` for score ≥ 50, else `null`     |                                                 |\n",
    "| **Using Expressions**        | `python df.withColumn(\"bonus\", when(col(\"score\") > 80, col(\"score\") * 0.1).otherwise(0)) `                                                  | Perform calculations inside `when`.               | Bonus = 10% of score if >80, else 0      |                                                 |\n",
    "| **Handling Null Values**     | `python df.withColumn(\"status\", when(col(\"score\").isNull(), \"No Score\").otherwise(\"Checked\")) `                                             | Explicitly handle nulls.                          | `\"No Score\"` if null, else `\"Checked\"`   |                                                 |\n",
    "| **Complex Condition**        | `python df.withColumn(\"category\", when((col(\"score\") >= 50) & (col(\"score\") < 70), \"Average\").otherwise(\"Other\")) `                         | Combine multiple conditions using `&`, `          | `.                                       | `\"Average\"` if score in [50,70), else `\"Other\"` |\n",
    "| **SQL Equivalent**           | `python df.withColumn(\"result\", when(col(\"score\") >= 50, \"Pass\").otherwise(\"Fail\")) `                                                       | Mimics SQL `CASE WHEN`.                           | `\"Pass\"` or `\"Fail\"` based on condition  |                                                 |\n",
    "| **Chaining Multiple `when`** | `python df.withColumn(\"grade\", when(col(\"score\") >= 90, \"A+\").when(col(\"score\") >= 80, \"A\").when(col(\"score\") >= 70, \"B\").otherwise(\"C\")) ` | Multiple checks, first match used.                | `\"A+\"`, `\"A\"`, `\"B\"`, or `\"C\"`           |                                                 |\n",
    "| **Default Null Handling**    | `python df.withColumn(\"result\", when(col(\"score\") >= 50, \"Pass\")) `                                                                         | Without `.otherwise()`, unmatched rows = null.    | Null values for unmatched cases          |                                                 |\n"
   ]
  },
  {
   "cell_type": "code",
   "execution_count": 0,
   "metadata": {
    "application/vnd.databricks.v1+cell": {
     "cellMetadata": {
      "byteLimit": 2048000,
      "rowLimit": 10000
     },
     "inputWidgets": {},
     "nuid": "2183be82-d179-46f8-825b-188266ff5427",
     "showTitle": false,
     "tableResultSettingsMap": {},
     "title": ""
    }
   },
   "outputs": [],
   "source": [
    "data = [\n",
    "    (\"Alice\", 15, \"F\"),\n",
    "    (\"Bob\", 22, \"M\"),\n",
    "    (\"Charlie\", 35, \"M\"),\n",
    "    (\"Diana\", 29, \"F\"),\n",
    "    (\"Ethan\", 42, \"M\"),\n",
    "    (\"Fiona\", 17, \"F\")\n",
    "]\n",
    "\n",
    "columns = [\"name\", \"age\", \"gender\"]\n"
   ]
  },
  {
   "cell_type": "code",
   "execution_count": 0,
   "metadata": {
    "application/vnd.databricks.v1+cell": {
     "cellMetadata": {
      "byteLimit": 2048000,
      "rowLimit": 10000
     },
     "inputWidgets": {},
     "nuid": "fb985528-960f-4f5c-9821-c7c12eaf334b",
     "showTitle": false,
     "tableResultSettingsMap": {},
     "title": ""
    }
   },
   "outputs": [
    {
     "output_type": "stream",
     "name": "stdout",
     "output_type": "stream",
     "text": [
      "+-------+---+------+\n|   name|age|gender|\n+-------+---+------+\n|  Alice| 15|     F|\n|    Bob| 22|     M|\n|Charlie| 35|     M|\n|  Diana| 29|     F|\n|  Ethan| 42|     M|\n|  Fiona| 17|     F|\n+-------+---+------+\n\n"
     ]
    }
   ],
   "source": [
    "df = spark.createDataFrame(data,columns)\n",
    "df.show()"
   ]
  },
  {
   "cell_type": "code",
   "execution_count": 0,
   "metadata": {
    "application/vnd.databricks.v1+cell": {
     "cellMetadata": {
      "byteLimit": 2048000,
      "rowLimit": 10000
     },
     "inputWidgets": {},
     "nuid": "409a3147-35b7-4c4a-9b1e-d131099bd427",
     "showTitle": false,
     "tableResultSettingsMap": {},
     "title": ""
    }
   },
   "outputs": [
    {
     "output_type": "display_data",
     "data": {
      "text/html": [
       "<style scoped>\n",
       "  .table-result-container {\n",
       "    max-height: 300px;\n",
       "    overflow: auto;\n",
       "  }\n",
       "  table, th, td {\n",
       "    border: 1px solid black;\n",
       "    border-collapse: collapse;\n",
       "  }\n",
       "  th, td {\n",
       "    padding: 5px;\n",
       "  }\n",
       "  th {\n",
       "    text-align: left;\n",
       "  }\n",
       "</style><div class='table-result-container'><table class='table-result'><thead style='background-color: white'><tr><th>name</th><th>age</th><th>gender</th><th>age_classification</th></tr></thead><tbody><tr><td>Alice</td><td>15</td><td>F</td><td>adult</td></tr><tr><td>Bob</td><td>22</td><td>M</td><td>adult</td></tr><tr><td>Charlie</td><td>35</td><td>M</td><td>adult</td></tr><tr><td>Diana</td><td>29</td><td>F</td><td>adult</td></tr><tr><td>Ethan</td><td>42</td><td>M</td><td>adult</td></tr><tr><td>Fiona</td><td>17</td><td>F</td><td>adult</td></tr></tbody></table></div>"
      ]
     },
     "metadata": {
      "application/vnd.databricks.v1+output": {
       "addedWidgets": {},
       "aggData": [],
       "aggError": "",
       "aggOverflow": false,
       "aggSchema": [],
       "aggSeriesLimitReached": false,
       "aggType": "",
       "arguments": {},
       "columnCustomDisplayInfos": {},
       "data": [
        [
         "Alice",
         15,
         "F",
         "adult"
        ],
        [
         "Bob",
         22,
         "M",
         "adult"
        ],
        [
         "Charlie",
         35,
         "M",
         "adult"
        ],
        [
         "Diana",
         29,
         "F",
         "adult"
        ],
        [
         "Ethan",
         42,
         "M",
         "adult"
        ],
        [
         "Fiona",
         17,
         "F",
         "adult"
        ]
       ],
       "datasetInfos": [],
       "dbfsResultPath": null,
       "isJsonSchema": true,
       "metadata": {},
       "overflow": false,
       "plotOptions": {
        "customPlotOptions": {},
        "displayType": "table",
        "pivotAggregation": null,
        "pivotColumns": null,
        "xColumns": null,
        "yColumns": null
       },
       "removedWidgets": [],
       "schema": [
        {
         "metadata": "{}",
         "name": "name",
         "type": "\"string\""
        },
        {
         "metadata": "{}",
         "name": "age",
         "type": "\"long\""
        },
        {
         "metadata": "{}",
         "name": "gender",
         "type": "\"string\""
        },
        {
         "metadata": "{}",
         "name": "age_classification",
         "type": "\"string\""
        }
       ],
       "type": "table"
      }
     },
     "output_type": "display_data"
    }
   ],
   "source": [
    "df = df.withColumn(\n",
    "    'age_classification',\n",
    "    when(col('age') < 15, 'child')\n",
    "    .when(col('age') >= 15, 'adult')\n",
    "    .otherwise('old')\n",
    ")\n",
    "display(df)"
   ]
  },
  {
   "cell_type": "code",
   "execution_count": 0,
   "metadata": {
    "application/vnd.databricks.v1+cell": {
     "cellMetadata": {
      "byteLimit": 2048000,
      "rowLimit": 10000
     },
     "inputWidgets": {},
     "nuid": "18d61521-b215-4bd5-9a1a-7a1ad674894c",
     "showTitle": false,
     "tableResultSettingsMap": {},
     "title": ""
    }
   },
   "outputs": [
    {
     "output_type": "stream",
     "name": "stdout",
     "output_type": "stream",
     "text": [
      "+----+---+------+------------------+\n|name|age|gender|age_classification|\n+----+---+------+------------------+\n+----+---+------+------------------+\n\n+-------+---+------+------------------+\n|   name|age|gender|age_classification|\n+-------+---+------+------------------+\n|  Alice| 15|     F|             adult|\n|    Bob| 22|     M|             adult|\n|Charlie| 35|     M|             adult|\n|  Diana| 29|     F|             adult|\n|  Ethan| 42|     M|             adult|\n|  Fiona| 17|     F|             adult|\n+-------+---+------+------------------+\n\n"
     ]
    }
   ],
   "source": [
    "df.filter(col(\"age\").isNull()).show()\n",
    "df.filter(col(\"age\").isNotNull()).show()"
   ]
  },
  {
   "cell_type": "markdown",
   "metadata": {
    "application/vnd.databricks.v1+cell": {
     "cellMetadata": {},
     "inputWidgets": {},
     "nuid": "3dfabd49-5ab5-4c03-8e9b-5a22e3bdf6f1",
     "showTitle": false,
     "tableResultSettingsMap": {},
     "title": ""
    }
   },
   "source": [
    "| Function & Parameter              | Description                                           | Example Code                                        | Output Explanation                                                                                                      |\n",
    "| --------------------------------- | ----------------------------------------------------- | --------------------------------------------------- | ----------------------------------------------------------------------------------------------------------------------- |\n",
    "| **`fillna(value)`**               | Replace nulls with a single value across all columns  | `df.fillna(\"Unknown\").show()`                       | All `NULL` values in **all string columns** become `\"Unknown\"`. Numeric columns stay unchanged unless value is numeric. |\n",
    "| **`fillna(value, subset=[...])`** | Replace nulls with a single value in specific columns | `df.fillna(\"N/A\", subset=[\"Department\"]).show()`    | Only nulls in **Department** column are replaced with `\"N/A\"`.                                                          |\n",
    "| **`fillna({col: val, ...})`**     | Replace nulls with different values per column        | `df.fillna({\"Department\": \"N/A\", \"Age\": 0}).show()` | Nulls in **Department** → `\"N/A\"`, nulls in **Age** → `0`.                                                              |\n",
    "| **`na.fill(...)`**                | Same as `fillna`, alternate syntax                    | `df.na.fill(\"Unassigned\", [\"Department\"]).show()`   | Equivalent to `fillna`. Preferred when chaining `.na` operations.                                                       |\n",
    "| **`dropna(how=\"any\")`**           | Drop row if **any column** is null                    | `df.dropna(how=\"any\").show()`                       | Rows with **at least one null** are removed.                                                                            |\n",
    "| **`dropna(how=\"all\")`**           | Drop row if **all columns** are null                  | `df.dropna(how=\"all\").show()`                       | Keeps rows unless **every column is null**.                                                                             |\n",
    "| **`dropna(thresh=n)`**            | Keep rows with **at least n non-nulls**               | `df.dropna(thresh=2).show()`                        | Drops rows that have **less than 2 non-null values**.                                                                   |\n",
    "| **`dropna(subset=[...])`**        | Drop rows if subset columns contain null              | `df.dropna(subset=[\"Department\"]).show()`           | Removes rows where **Department is null**, ignores nulls in other cols.                                                 |\n",
    "| **`na.drop(...)`**                | Same as `dropna`, alternate syntax                    | `df.na.drop(how=\"any\", subset=[\"Age\"]).show()`      | Equivalent to `dropna`.                                                                                                 |\n"
   ]
  },
  {
   "cell_type": "code",
   "execution_count": 0,
   "metadata": {
    "application/vnd.databricks.v1+cell": {
     "cellMetadata": {
      "byteLimit": 2048000,
      "rowLimit": 10000
     },
     "inputWidgets": {},
     "nuid": "8c57e641-8bee-4976-840f-990d1ad9b7db",
     "showTitle": false,
     "tableResultSettingsMap": {},
     "title": ""
    }
   },
   "outputs": [
    {
     "output_type": "stream",
     "name": "stdout",
     "output_type": "stream",
     "text": [
      "+-------+----------+----+\n|   Name|Department| Age|\n+-------+----------+----+\n|  Alice|   Unknown|  30|\n|    Bob|        HR|NULL|\n|Charlie|        IT|  25|\n|  David|   Unknown|NULL|\n+-------+----------+----+\n\n+-------+----------+---+\n|   Name|Department|Age|\n+-------+----------+---+\n|  Alice|       N/A| 30|\n|    Bob|        HR|  0|\n|Charlie|        IT| 25|\n|  David|       N/A|  0|\n+-------+----------+---+\n\n+-------+----------+----+\n|   Name|Department| Age|\n+-------+----------+----+\n|  Alice|Unassigned|  30|\n|    Bob|        HR|NULL|\n|Charlie|        IT|  25|\n|  David|Unassigned|NULL|\n+-------+----------+----+\n\n"
     ]
    }
   ],
   "source": [
    "from pyspark.sql import SparkSession\n",
    "from pyspark.sql.functions import col\n",
    "\n",
    "spark = SparkSession.builder.appName(\"FillNaExample\").getOrCreate()\n",
    "\n",
    "data = [(\"Alice\", None, 30), (\"Bob\", \"HR\", None), (\"Charlie\", \"IT\", 25), (\"David\", None, None)]\n",
    "columns = [\"Name\", \"Department\", \"Age\"]\n",
    "df = spark.createDataFrame(data, columns)\n",
    "\n",
    "# Using fillna with a single value\n",
    "df_filled_single = df.fillna(\"Unknown\", subset=[\"Department\"])\n",
    "df_filled_single.show()\n",
    "\n",
    "# Using fillna with a dictionary for different columns\n",
    "df_filled_dict = df.fillna({\"Department\": \"N/A\", \"Age\": 0})\n",
    "df_filled_dict.show()\n",
    "\n",
    "# Using na.fill (equivalent to fillna with a single value)\n",
    "df_na_filled = df.na.fill(\"Unassigned\", subset=[\"Department\"])\n",
    "df_na_filled.show()\n",
    "\n",
    "spark.stop()"
   ]
  },
  {
   "cell_type": "code",
   "execution_count": 0,
   "metadata": {
    "application/vnd.databricks.v1+cell": {
     "cellMetadata": {
      "byteLimit": 2048000,
      "rowLimit": 10000
     },
     "inputWidgets": {},
     "nuid": "026a67ad-b261-459f-93f1-25fa666505b7",
     "showTitle": false,
     "tableResultSettingsMap": {},
     "title": ""
    }
   },
   "outputs": [
    {
     "output_type": "stream",
     "name": "stdout",
     "output_type": "stream",
     "text": [
      "Original DataFrame:\n+-------+----------+----+\n|   Name|Department| Age|\n+-------+----------+----+\n|  Alice|      NULL|  30|\n|    Bob|        HR|NULL|\n|Charlie|        IT|  25|\n|  David|      NULL|NULL|\n|    Eve|   Finance|  28|\n+-------+----------+----+\n\nDrop rows with ANY nulls:\n+-------+----------+---+\n|   Name|Department|Age|\n+-------+----------+---+\n|Charlie|        IT| 25|\n|    Eve|   Finance| 28|\n+-------+----------+---+\n\nDrop rows where ALL columns are null (none in this case):\n+-------+----------+----+\n|   Name|Department| Age|\n+-------+----------+----+\n|  Alice|      NULL|  30|\n|    Bob|        HR|NULL|\n|Charlie|        IT|  25|\n|  David|      NULL|NULL|\n|    Eve|   Finance|  28|\n+-------+----------+----+\n\nDrop rows with nulls in Department column:\n+-------+----------+----+\n|   Name|Department| Age|\n+-------+----------+----+\n|    Bob|        HR|NULL|\n|Charlie|        IT|  25|\n|    Eve|   Finance|  28|\n+-------+----------+----+\n\nDrop rows with less than 2 non-null values:\n+-------+----------+----+\n|   Name|Department| Age|\n+-------+----------+----+\n|  Alice|      NULL|  30|\n|    Bob|        HR|NULL|\n|Charlie|        IT|  25|\n|    Eve|   Finance|  28|\n+-------+----------+----+\n\nDrop rows with nulls in Department OR Age columns:\n+-------+----------+---+\n|   Name|Department|Age|\n+-------+----------+---+\n|Charlie|        IT| 25|\n|    Eve|   Finance| 28|\n+-------+----------+---+\n\n"
     ]
    }
   ],
   "source": [
    "from pyspark.sql import SparkSession\n",
    "from pyspark.sql.functions import col\n",
    "\n",
    "spark = SparkSession.builder.appName(\"DropNaExample\").getOrCreate()\n",
    "\n",
    "data = [\n",
    "    (\"Alice\", None, 30),\n",
    "    (\"Bob\", \"HR\", None),\n",
    "    (\"Charlie\", \"IT\", 25),\n",
    "    (\"David\", None, None),\n",
    "    (\"Eve\", \"Finance\", 28)\n",
    "]\n",
    "columns = [\"Name\", \"Department\", \"Age\"]\n",
    "\n",
    "df = spark.createDataFrame(data, columns)\n",
    "\n",
    "print(\"Original DataFrame:\")\n",
    "df.show()\n",
    "\n",
    "# 1️⃣ Drop rows with ANY null value\n",
    "df_drop_any = df.dropna(how=\"any\")\n",
    "print(\"Drop rows with ANY nulls:\")\n",
    "df_drop_any.show()\n",
    "\n",
    "# 2️⃣ Drop rows with ALL values null\n",
    "df_drop_all = df.dropna(how=\"all\")\n",
    "print(\"Drop rows where ALL columns are null (none in this case):\")\n",
    "df_drop_all.show()\n",
    "\n",
    "# 3️⃣ Drop rows with nulls in a SUBSET of columns\n",
    "df_drop_subset = df.dropna(subset=[\"Department\"])\n",
    "print(\"Drop rows with nulls in Department column:\")\n",
    "df_drop_subset.show()\n",
    "\n",
    "# 4️⃣ Drop rows with less than a certain number of NON-null values\n",
    "df_drop_thresh = df.dropna(thresh=2)  \n",
    "# keep rows that have at least 2 non-null values\n",
    "print(\"Drop rows with less than 2 non-null values:\")\n",
    "df_drop_thresh.show()\n",
    "\n",
    "# 5️⃣ Drop rows with nulls in multiple specific columns\n",
    "df_drop_multi_subset = df.dropna(subset=[\"Department\", \"Age\"])\n",
    "print(\"Drop rows with nulls in Department OR Age columns:\")\n",
    "df_drop_multi_subset.show()\n",
    "\n",
    "spark.stop()\n"
   ]
  }
 ],
 "metadata": {
  "application/vnd.databricks.v1+notebook": {
   "computePreferences": null,
   "dashboards": [],
   "environmentMetadata": {
    "base_environment": "",
    "environment_version": "3"
   },
   "inputWidgetPreferences": null,
   "language": "python",
   "notebookMetadata": {
    "pythonIndentUnit": 4
   },
   "notebookName": "Untitled Notebook 2025-09-24 18:28:57",
   "widgets": {}
  },
  "language_info": {
   "name": "python"
  }
 },
 "nbformat": 4,
 "nbformat_minor": 0
}